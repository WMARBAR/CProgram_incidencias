{
  "cells": [
    {
      "cell_type": "code",
      "source": [
        "# Descarga tu repositorio desde GitHub\n",
        "!git clone https://github.com/Wmarbar/CProgram_incidencias.git\n",
        "\n",
        "# Cambia de directorio para acceder a los archivos\n",
        "%cd CProgram_incidencias\n",
        "\n",
        "# Verifica que los archivos estén\n",
        "!ls\n"
      ],
      "metadata": {
        "colab": {
          "base_uri": "https://localhost:8080/"
        },
        "id": "q2HhbKkGUxs-",
        "outputId": "6b2b45ac-7ec6-4ddf-a0c6-155446a943c9"
      },
      "execution_count": 51,
      "outputs": [
        {
          "output_type": "stream",
          "name": "stdout",
          "text": [
            "Cloning into 'CProgram_incidencias'...\n",
            "remote: Enumerating objects: 24, done.\u001b[K\n",
            "remote: Counting objects: 100% (24/24), done.\u001b[K\n",
            "remote: Compressing objects: 100% (23/23), done.\u001b[K\n",
            "remote: Total 24 (delta 8), reused 10 (delta 1), pack-reused 0 (from 0)\u001b[K\n",
            "Receiving objects: 100% (24/24), 1.62 MiB | 5.83 MiB/s, done.\n",
            "Resolving deltas: 100% (8/8), done.\n",
            "/content/CProgram_incidencias/CProgram_incidencias/CProgram_incidencias/CProgram_incidencias\n",
            " constructor4_proyecto_II.ipynb   README.md\n",
            " input\t\t\t\t 'Trabajo-CalidadDeDatos Ver4-2.pdf'\n",
            " logo_u.png\n"
          ]
        }
      ]
    },
    {
      "cell_type": "markdown",
      "metadata": {
        "id": "yszTMPvGUeta"
      },
      "source": [
        "# __PROGRAMACIÓN PARA ANALÍTICA DE DATOS__\n",
        "\n",
        "<img src=\"https://github.com/WMARBAR/CProgram_incidencias/blob/main/logo_u.png?raw=1\" alt=\"Logo Universidad Central\" width=\"300\" />\n",
        "\n",
        "> ## __PROYECTO: Estimación Área bajo la curva__\n",
        "\n",
        "> ## Profesor: Jorge Victorino [jvictorinog@ucentral.edu.co](jvictorinog@ucentral.edu.co)<br>\n",
        "> ## Estudiante: Sergio Andrés Sánchez Cárdenas [correo@ucentral.edu.co](mailto:correo@ucentral.edu.co)<br>\n",
        "> ## Estudiante: Wilson Felipe Mártinez Barrantes [wmartinezb1@ucentral.edu.co](jvictorinog@ucentral.edu.co)<br>\n",
        "> ## Grupo: 5 <br>\n",
        "> ### Facultad de Ingeniería y Ciencias Básicas <br>\n",
        "> ### Universidad Central <br>\n",
        "> <br>\n",
        "\n",
        "---\n"
      ]
    },
    {
      "cell_type": "markdown",
      "source": [
        "# FUNCTIONS"
      ],
      "metadata": {
        "id": "TRcrKQeAskKI"
      }
    },
    {
      "cell_type": "code",
      "execution_count": 53,
      "metadata": {
        "id": "az58CghYUetb"
      },
      "outputs": [],
      "source": [
        "import pandas as pd\n",
        "import numpy as np\n",
        "\n",
        "def load_excel(path):\n",
        "\n",
        " df_incidentes = pd.read_excel(path)\n",
        " return df_incidentes\n",
        "\n",
        ""
      ]
    },
    {
      "cell_type": "markdown",
      "source": [
        "# DEV ZONE"
      ],
      "metadata": {
        "id": "_r6NAm46sug2"
      }
    },
    {
      "cell_type": "markdown",
      "source": [
        "## 1.) CARGA DE ARCHIVOS"
      ],
      "metadata": {
        "id": "9NucRsJAC_Wj"
      }
    },
    {
      "cell_type": "code",
      "execution_count": 56,
      "metadata": {
        "id": "LT9NZzxWUetc"
      },
      "outputs": [],
      "source": [
        "# Cargar archivos\n",
        "df_incidentes = load_excel(\"./input/incidentes1.xlsx\")\n",
        "df_estructura = load_excel(\"./input/estructura1.xlsx\")"
      ]
    },
    {
      "cell_type": "markdown",
      "source": [
        "## 2.) PROCESAMIENTO DE DUPLICADOS"
      ],
      "metadata": {
        "id": "7mSQt-mGDDF5"
      }
    },
    {
      "cell_type": "code",
      "source": [],
      "metadata": {
        "id": "rQiHP6OBDIQf"
      },
      "execution_count": null,
      "outputs": []
    }
  ],
  "metadata": {
    "kernelspec": {
      "display_name": "Analitica",
      "language": "python",
      "name": "python3"
    },
    "language_info": {
      "codemirror_mode": {
        "name": "ipython",
        "version": 3
      },
      "file_extension": ".py",
      "mimetype": "text/x-python",
      "name": "python",
      "nbconvert_exporter": "python",
      "pygments_lexer": "ipython3",
      "version": "3.9.19"
    },
    "colab": {
      "provenance": []
    }
  },
  "nbformat": 4,
  "nbformat_minor": 0
}